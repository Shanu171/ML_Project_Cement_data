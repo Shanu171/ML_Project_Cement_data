{
  "nbformat": 4,
  "nbformat_minor": 0,
  "metadata": {
    "colab": {
      "provenance": [],
      "authorship_tag": "ABX9TyP1PMyJ5WebCylfZsXlw4+w",
      "include_colab_link": true
    },
    "kernelspec": {
      "name": "python3",
      "display_name": "Python 3"
    },
    "language_info": {
      "name": "python"
    },
    "accelerator": "GPU",
    "gpuClass": "standard"
  },
  "cells": [
    {
      "cell_type": "markdown",
      "metadata": {
        "id": "view-in-github",
        "colab_type": "text"
      },
      "source": [
        "<a href=\"https://colab.research.google.com/github/Shanu171/ML_Project_Cement_data/blob/main/Intel_image_dataset_cnn.ipynb\" target=\"_parent\"><img src=\"https://colab.research.google.com/assets/colab-badge.svg\" alt=\"Open In Colab\"/></a>"
      ]
    },
    {
      "cell_type": "code",
      "source": [
        "!mkdir -p ~/.kaggle\n",
        "!cp kaggle.json ~/.kaggle/"
      ],
      "metadata": {
        "id": "rUvFXVIxJsL-"
      },
      "execution_count": 1,
      "outputs": []
    },
    {
      "cell_type": "code",
      "execution_count": 2,
      "metadata": {
        "colab": {
          "base_uri": "https://localhost:8080/"
        },
        "id": "6_o9QatiJBs0",
        "outputId": "9a9da89a-bcf9-4855-cce1-1e437f6659db"
      },
      "outputs": [
        {
          "output_type": "stream",
          "name": "stdout",
          "text": [
            "Warning: Your Kaggle API key is readable by other users on this system! To fix this, you can run 'chmod 600 /root/.kaggle/kaggle.json'\n",
            "Downloading intel-image-classification.zip to /content\n",
            "100% 345M/346M [00:15<00:00, 25.2MB/s]\n",
            "100% 346M/346M [00:15<00:00, 23.1MB/s]\n"
          ]
        }
      ],
      "source": [
        "!kaggle datasets download -d puneet6060/intel-image-classification"
      ]
    },
    {
      "cell_type": "code",
      "source": [
        "import zipfile\n",
        "zip_ref = zipfile.ZipFile('/content/intel-image-classification.zip', 'r')\n",
        "zip_ref.extractall('/content')\n",
        "zip_ref.close()"
      ],
      "metadata": {
        "id": "OFoLjsYtJzFw"
      },
      "execution_count": 3,
      "outputs": []
    },
    {
      "cell_type": "code",
      "source": [
        "import tensorflow as tf\n",
        "from tensorflow import keras\n",
        "from keras import Sequential\n",
        "from keras.layers import Dense,Conv2D,MaxPooling2D,Flatten,BatchNormalization,Dropout"
      ],
      "metadata": {
        "id": "yDQaIxUaKGzp"
      },
      "execution_count": 4,
      "outputs": []
    },
    {
      "cell_type": "code",
      "source": [
        "# generators\n",
        "train_ds = keras.utils.image_dataset_from_directory(\n",
        "    directory = '/content/seg_train/seg_train',\n",
        "    labels='inferred',\n",
        "    label_mode = 'int',\n",
        "    batch_size=32,\n",
        "    image_size=(256,256)\n",
        ")\n",
        "\n",
        "validation_ds = keras.utils.image_dataset_from_directory(\n",
        "    directory = '/content/seg_test/seg_test',\n",
        "    labels='inferred',\n",
        "    label_mode = 'int',\n",
        "    batch_size=32,\n",
        "    image_size=(256,256)\n",
        ")"
      ],
      "metadata": {
        "colab": {
          "base_uri": "https://localhost:8080/"
        },
        "id": "CeLpfpxaKyu-",
        "outputId": "59d135bb-4530-40ca-cf01-4132a2876a40"
      },
      "execution_count": 5,
      "outputs": [
        {
          "output_type": "stream",
          "name": "stdout",
          "text": [
            "Found 14034 files belonging to 6 classes.\n",
            "Found 3000 files belonging to 6 classes.\n"
          ]
        }
      ]
    },
    {
      "cell_type": "code",
      "source": [
        "# Normalize\n",
        "def process(image,label):\n",
        "    image = tf.cast(image/255. ,tf.float32)\n",
        "    return image,label\n",
        "\n",
        "train_ds = train_ds.map(process)\n",
        "validation_ds = validation_ds.map(process)"
      ],
      "metadata": {
        "id": "O4dFrfpxLJWG"
      },
      "execution_count": 6,
      "outputs": []
    },
    {
      "cell_type": "code",
      "source": [
        "# create CNN model\n",
        "\n",
        "model = Sequential()\n",
        "\n",
        "model.add(Conv2D(32,kernel_size=(3,3),padding='valid',activation='relu',input_shape=(256,256,3)))\n",
        "model.add(BatchNormalization())\n",
        "model.add(MaxPooling2D(pool_size=(2,2),strides=2,padding='valid'))\n",
        "\n",
        "model.add(Conv2D(64,kernel_size=(3,3),padding='valid',activation='relu'))\n",
        "model.add(BatchNormalization())\n",
        "model.add(MaxPooling2D(pool_size=(2,2),strides=2,padding='valid'))\n",
        "\n",
        "model.add(Conv2D(128,kernel_size=(3,3),padding='valid',activation='relu'))\n",
        "model.add(BatchNormalization())\n",
        "model.add(MaxPooling2D(pool_size=(2,2),strides=2,padding='valid'))\n",
        "\n",
        "model.add(Flatten())\n",
        "\n",
        "model.add(Dense(128,activation='relu'))\n",
        "model.add(Dropout(0.1))\n",
        "model.add(Dense(64,activation='relu'))\n",
        "model.add(Dropout(0.1))\n",
        "model.add(Dense(6,activation='softmax'))"
      ],
      "metadata": {
        "id": "do9JhKXGLwod"
      },
      "execution_count": 7,
      "outputs": []
    },
    {
      "cell_type": "code",
      "source": [
        "model.summary()"
      ],
      "metadata": {
        "colab": {
          "base_uri": "https://localhost:8080/"
        },
        "id": "-yEgfva_MD9Q",
        "outputId": "d02b0434-5481-47ae-e04a-2fee3cadd8bf"
      },
      "execution_count": 8,
      "outputs": [
        {
          "output_type": "stream",
          "name": "stdout",
          "text": [
            "Model: \"sequential\"\n",
            "_________________________________________________________________\n",
            " Layer (type)                Output Shape              Param #   \n",
            "=================================================================\n",
            " conv2d (Conv2D)             (None, 254, 254, 32)      896       \n",
            "                                                                 \n",
            " batch_normalization (BatchN  (None, 254, 254, 32)     128       \n",
            " ormalization)                                                   \n",
            "                                                                 \n",
            " max_pooling2d (MaxPooling2D  (None, 127, 127, 32)     0         \n",
            " )                                                               \n",
            "                                                                 \n",
            " conv2d_1 (Conv2D)           (None, 125, 125, 64)      18496     \n",
            "                                                                 \n",
            " batch_normalization_1 (Batc  (None, 125, 125, 64)     256       \n",
            " hNormalization)                                                 \n",
            "                                                                 \n",
            " max_pooling2d_1 (MaxPooling  (None, 62, 62, 64)       0         \n",
            " 2D)                                                             \n",
            "                                                                 \n",
            " conv2d_2 (Conv2D)           (None, 60, 60, 128)       73856     \n",
            "                                                                 \n",
            " batch_normalization_2 (Batc  (None, 60, 60, 128)      512       \n",
            " hNormalization)                                                 \n",
            "                                                                 \n",
            " max_pooling2d_2 (MaxPooling  (None, 30, 30, 128)      0         \n",
            " 2D)                                                             \n",
            "                                                                 \n",
            " flatten (Flatten)           (None, 115200)            0         \n",
            "                                                                 \n",
            " dense (Dense)               (None, 128)               14745728  \n",
            "                                                                 \n",
            " dropout (Dropout)           (None, 128)               0         \n",
            "                                                                 \n",
            " dense_1 (Dense)             (None, 64)                8256      \n",
            "                                                                 \n",
            " dropout_1 (Dropout)         (None, 64)                0         \n",
            "                                                                 \n",
            " dense_2 (Dense)             (None, 6)                 390       \n",
            "                                                                 \n",
            "=================================================================\n",
            "Total params: 14,848,518\n",
            "Trainable params: 14,848,070\n",
            "Non-trainable params: 448\n",
            "_________________________________________________________________\n"
          ]
        }
      ]
    },
    {
      "cell_type": "code",
      "source": [
        "model.compile(optimizer='adam',loss='sparse_categorical_crossentropy',metrics=['accuracy'])\n"
      ],
      "metadata": {
        "id": "VOWEm3keMI7Z"
      },
      "execution_count": 9,
      "outputs": []
    },
    {
      "cell_type": "code",
      "source": [
        "history = model.fit(train_ds,epochs=10,validation_data=validation_ds)\n",
        "\n"
      ],
      "metadata": {
        "colab": {
          "base_uri": "https://localhost:8080/"
        },
        "id": "61U1edR2MMLA",
        "outputId": "10e58b05-b87f-4d0f-da8e-1ad1972a65f7"
      },
      "execution_count": 10,
      "outputs": [
        {
          "output_type": "stream",
          "name": "stdout",
          "text": [
            "Epoch 1/10\n",
            "439/439 [==============================] - 61s 116ms/step - loss: 3.7442 - accuracy: 0.4218 - val_loss: 2.0393 - val_accuracy: 0.3867\n",
            "Epoch 2/10\n",
            "439/439 [==============================] - 49s 112ms/step - loss: 1.3576 - accuracy: 0.4951 - val_loss: 1.2996 - val_accuracy: 0.5410\n",
            "Epoch 3/10\n",
            "439/439 [==============================] - 50s 112ms/step - loss: 1.1195 - accuracy: 0.5837 - val_loss: 4.1592 - val_accuracy: 0.3290\n",
            "Epoch 4/10\n",
            "439/439 [==============================] - 50s 112ms/step - loss: 0.9664 - accuracy: 0.6401 - val_loss: 1.7688 - val_accuracy: 0.5720\n",
            "Epoch 5/10\n",
            "439/439 [==============================] - 49s 112ms/step - loss: 0.8465 - accuracy: 0.6914 - val_loss: 3.1249 - val_accuracy: 0.4460\n",
            "Epoch 6/10\n",
            "439/439 [==============================] - 50s 113ms/step - loss: 0.7723 - accuracy: 0.7222 - val_loss: 1.0796 - val_accuracy: 0.6693\n",
            "Epoch 7/10\n",
            "439/439 [==============================] - 51s 116ms/step - loss: 0.6779 - accuracy: 0.7611 - val_loss: 0.9324 - val_accuracy: 0.7160\n",
            "Epoch 8/10\n",
            "439/439 [==============================] - 50s 114ms/step - loss: 0.6180 - accuracy: 0.7861 - val_loss: 1.1168 - val_accuracy: 0.6817\n",
            "Epoch 9/10\n",
            "439/439 [==============================] - 50s 113ms/step - loss: 0.5554 - accuracy: 0.8079 - val_loss: 0.8697 - val_accuracy: 0.7327\n",
            "Epoch 10/10\n",
            "439/439 [==============================] - 50s 113ms/step - loss: 0.5273 - accuracy: 0.8254 - val_loss: 0.9628 - val_accuracy: 0.6427\n"
          ]
        }
      ]
    },
    {
      "cell_type": "code",
      "source": [
        "import matplotlib.pyplot as plt\n",
        "\n",
        "plt.plot(history.history['accuracy'],color='red',label='train')\n",
        "plt.plot(history.history['val_accuracy'],color='blue',label='validation')\n",
        "plt.legend()\n",
        "plt.show()"
      ],
      "metadata": {
        "colab": {
          "base_uri": "https://localhost:8080/",
          "height": 265
        },
        "id": "XX0Z5csiMPD-",
        "outputId": "35c50a56-d938-4832-b4e2-88322e87b043"
      },
      "execution_count": 11,
      "outputs": [
        {
          "output_type": "display_data",
          "data": {
            "text/plain": [
              "<Figure size 432x288 with 1 Axes>"
            ],
            "image/png": "[encoded data removed]"
          },
          "metadata": {
            "needs_background": "light"
          }
        }
      ]
    },
    {
      "cell_type": "code",
      "source": [
        "plt.plot(history.history['loss'],color='red',label='train')\n",
        "plt.plot(history.history['val_loss'],color='blue',label='validation')\n",
        "plt.legend()\n",
        "plt.show()"
      ],
      "metadata": {
        "colab": {
          "base_uri": "https://localhost:8080/",
          "height": 265
        },
        "id": "SdIgNkvZaY23",
        "outputId": "b807277b-4503-4d1c-c006-c78d23538bfa"
      },
      "execution_count": 12,
      "outputs": [
        {
          "output_type": "display_data",
          "data": {
            "text/plain": [
              "<Figure size 432x288 with 1 Axes>"
            ],
            "image/png": "[encoded data removed]"
          },
          "metadata": {
            "needs_background": "light"
          }
        }
      ]
    },
    {
      "cell_type": "code",
      "source": [
        "data_augmentation = tf.keras.Sequential([\n",
        "    \n",
        "    tf.keras.layers.RandomFlip(mode=\"horizontal\",seed=42),\n",
        "    tf.keras.layers.RandomRotation(factor=0.05,seed=42),\n",
        "    tf.keras.layers.RandomContrast(factor=0.2,seed=42),\n",
        "])"
      ],
      "metadata": {
        "id": "CQxAI1K3aZCk"
      },
      "execution_count": 13,
      "outputs": []
    },
    {
      "cell_type": "code",
      "source": [
        "base_model = tf.keras.applications.xception.Xception(weights=\"imagenet\",include_top=False) ##provide website - https://keras.io/api/applications/\n",
        "avg = tf.keras.layers.GlobalAveragePooling2D()(base_model.output)\n",
        "output = tf.keras.layers.Dense(6, activation=\"softmax\")(avg)\n",
        "model = tf.keras.Model(inputs=base_model.input, outputs=output)\n"
      ],
      "metadata": {
        "id": "l5bmt_YVktTQ"
      },
      "execution_count": 15,
      "outputs": []
    },
    {
      "cell_type": "code",
      "source": [
        "for layer in base_model.layers:\n",
        "    layer.trainable = False\n"
      ],
      "metadata": {
        "id": "O_BdnjamktYb"
      },
      "execution_count": 17,
      "outputs": []
    },
    {
      "cell_type": "code",
      "source": [
        "optimizer = tf.keras.optimizers.SGD(learning_rate=0.1)\n",
        "model.compile(loss=\"sparse_categorical_crossentropy\",optimizer = optimizer, metrics=[\"accuracy\"]\n",
        "              )\n",
        "history = model.fit(train_ds,epochs=5,validation_data=validation_ds)"
      ],
      "metadata": {
        "colab": {
          "base_uri": "https://localhost:8080/"
        },
        "id": "BFlacdCAkteJ",
        "outputId": "4d413763-29c1-463a-a13e-11768e73a733"
      },
      "execution_count": 18,
      "outputs": [
        {
          "output_type": "stream",
          "name": "stdout",
          "text": [
            "Epoch 1/5\n",
            "439/439 [==============================] - 102s 223ms/step - loss: 0.3308 - accuracy: 0.8841 - val_loss: 0.2604 - val_accuracy: 0.9037\n",
            "Epoch 2/5\n",
            "439/439 [==============================] - 95s 216ms/step - loss: 0.2451 - accuracy: 0.9100 - val_loss: 0.2695 - val_accuracy: 0.8963\n",
            "Epoch 3/5\n",
            "439/439 [==============================] - 94s 214ms/step - loss: 0.2284 - accuracy: 0.9149 - val_loss: 0.2348 - val_accuracy: 0.9107\n",
            "Epoch 4/5\n",
            "439/439 [==============================] - 95s 215ms/step - loss: 0.2167 - accuracy: 0.9206 - val_loss: 0.2291 - val_accuracy: 0.9137\n",
            "Epoch 5/5\n",
            "439/439 [==============================] - 99s 224ms/step - loss: 0.2075 - accuracy: 0.9230 - val_loss: 0.2308 - val_accuracy: 0.9153\n"
          ]
        }
      ]
    },
    {
      "cell_type": "code",
      "source": [
        "for layer in base_model.layers[55:]:\n",
        "    layer.trainable = True"
      ],
      "metadata": {
        "id": "ha0_pfwxktjZ"
      },
      "execution_count": 19,
      "outputs": []
    },
    {
      "cell_type": "code",
      "source": [
        "optimizer = tf.keras.optimizers.SGD(learning_rate=0.01)\n",
        "model.compile(loss=\"sparse_categorical_crossentropy\",optimizer = optimizer, metrics=[\"accuracy\"]\n",
        "              )\n",
        "history = model.fit(train_ds,validation_data = validation_ds,epochs=10)"
      ],
      "metadata": {
        "colab": {
          "base_uri": "https://localhost:8080/"
        },
        "id": "zYsXkbmDktp_",
        "outputId": "05e1f2fe-2ac0-425e-c449-be494ef7a68d"
      },
      "execution_count": 20,
      "outputs": [
        {
          "output_type": "stream",
          "name": "stdout",
          "text": [
            "Epoch 1/10\n",
            "439/439 [==============================] - 181s 405ms/step - loss: 0.2650 - accuracy: 0.9085 - val_loss: 0.2138 - val_accuracy: 0.9270\n",
            "Epoch 2/10\n",
            "439/439 [==============================] - 177s 402ms/step - loss: 0.1669 - accuracy: 0.9434 - val_loss: 0.2016 - val_accuracy: 0.9280\n",
            "Epoch 3/10\n",
            "439/439 [==============================] - 177s 402ms/step - loss: 0.1288 - accuracy: 0.9564 - val_loss: 0.2058 - val_accuracy: 0.9310\n",
            "Epoch 4/10\n",
            "439/439 [==============================] - 177s 402ms/step - loss: 0.0956 - accuracy: 0.9682 - val_loss: 0.1986 - val_accuracy: 0.9313\n",
            "Epoch 5/10\n",
            "439/439 [==============================] - 177s 402ms/step - loss: 0.0736 - accuracy: 0.9780 - val_loss: 0.2082 - val_accuracy: 0.9297\n",
            "Epoch 6/10\n",
            "439/439 [==============================] - 177s 402ms/step - loss: 0.0515 - accuracy: 0.9858 - val_loss: 0.2138 - val_accuracy: 0.9303\n",
            "Epoch 7/10\n",
            "439/439 [==============================] - 176s 401ms/step - loss: 0.0426 - accuracy: 0.9892 - val_loss: 0.2228 - val_accuracy: 0.9317\n",
            "Epoch 8/10\n",
            "439/439 [==============================] - 177s 402ms/step - loss: 0.0322 - accuracy: 0.9924 - val_loss: 0.2304 - val_accuracy: 0.9330\n",
            "Epoch 9/10\n",
            "439/439 [==============================] - 176s 402ms/step - loss: 0.0255 - accuracy: 0.9952 - val_loss: 0.2358 - val_accuracy: 0.9310\n",
            "Epoch 10/10\n",
            "439/439 [==============================] - 177s 402ms/step - loss: 0.0207 - accuracy: 0.9962 - val_loss: 0.2404 - val_accuracy: 0.9313\n"
          ]
        }
      ]
    },
    {
      "cell_type": "code",
      "source": [
        "import matplotlib.pyplot as plt\n",
        "\n",
        "plt.plot(history.history['accuracy'],color='red',label='train')\n",
        "plt.plot(history.history['val_accuracy'],color='blue',label='validation')\n",
        "plt.legend()\n",
        "plt.show()"
      ],
      "metadata": {
        "colab": {
          "base_uri": "https://localhost:8080/",
          "height": 268
        },
        "id": "qG_YcSmJktxy",
        "outputId": "89d56a99-4511-4786-bfe1-6ba4a3e162b3"
      },
      "execution_count": 21,
      "outputs": [
        {
          "output_type": "display_data",
          "data": {
            "text/plain": [
              "<Figure size 432x288 with 1 Axes>"
            ],
            "image/png": "[encoded data removed]"
          },
          "metadata": {
            "needs_background": "light"
          }
        }
      ]
    },
    {
      "cell_type": "code",
      "source": [
        "plt.plot(history.history['loss'],color='red',label='train')\n",
        "plt.plot(history.history['val_loss'],color='blue',label='validation')\n",
        "plt.legend()\n",
        "plt.show()"
      ],
      "metadata": {
        "colab": {
          "base_uri": "https://localhost:8080/",
          "height": 265
        },
        "id": "GpJY6kZvaZHI",
        "outputId": "3611d837-95fd-4fe9-d6e0-3d582cf29fe3"
      },
      "execution_count": 22,
      "outputs": [
        {
          "output_type": "display_data",
          "data": {
            "text/plain": [
              "<Figure size 432x288 with 1 Axes>"
            ],
            "image/png": "[encoded data removed]"
          },
          "metadata": {
            "needs_background": "light"
          }
        }
      ]
    },
    {
      "cell_type": "code",
      "source": [],
      "metadata": {
        "id": "4C9q9O4QvSTf"
      },
      "execution_count": null,
      "outputs": []
    }
  ]
}